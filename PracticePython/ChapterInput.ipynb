{
 "cells": [
  {
   "cell_type": "code",
   "execution_count": 20,
   "metadata": {},
   "outputs": [
    {
     "name": "stdout",
     "output_type": "stream",
     "text": [
      "What is your name? Meli\n",
      "Your name is Meli.\n"
     ]
    }
   ],
   "source": [
    "name = input('What is your name? ')\n",
    "if name == '':\n",
    "    print ('Try again')\n",
    "else:\n",
    "    print ('Your name is ' + name + '.')"
   ]
  },
  {
   "cell_type": "code",
   "execution_count": 21,
   "metadata": {},
   "outputs": [
    {
     "name": "stdout",
     "output_type": "stream",
     "text": [
      "How old are you? 21\n",
      "You are 21 years old.\n"
     ]
    }
   ],
   "source": [
    "age = int(input('How old are you? '))\n",
    "if age < 1 or age == '':\n",
    "    print ('Invalid entry, try again');\n",
    "else:\n",
    "    print ('You are', age, 'years old.');\n"
   ]
  },
  {
   "cell_type": "code",
   "execution_count": 22,
   "metadata": {},
   "outputs": [
    {
     "name": "stdout",
     "output_type": "stream",
     "text": [
      "You are Meli and you're 21 years old.\n"
     ]
    }
   ],
   "source": [
    "print ('You are', name, 'and you\\'re', age, 'years old.' );"
   ]
  },
  {
   "cell_type": "code",
   "execution_count": 12,
   "metadata": {},
   "outputs": [
    {
     "name": "stdout",
     "output_type": "stream",
     "text": [
      "Werewolf\n",
      "Doorman\n",
      "4chan\n",
      "4chan\n",
      "baefubaefubaefubaefu\n",
      "kawaiikawaiikawaiikawaii\n"
     ]
    }
   ],
   "source": [
    "print(\"Were\"+\"wolf\")\n",
    "print(\"Door\"+\"man\")\n",
    "print(\"4\"+\"chan\")\n",
    "print(str(4)+\"chan\")\n",
    "print(4*\"baefu\")\n",
    "print(4*\"kawaii\")"
   ]
  },
  {
   "cell_type": "code",
   "execution_count": 23,
   "metadata": {},
   "outputs": [
    {
     "name": "stdout",
     "output_type": "stream",
     "text": [
      "You will be 121 in 100 years.\n"
     ]
    }
   ],
   "source": [
    "print ('You will be', age+100, 'in 100 years.')"
   ]
  },
  {
   "cell_type": "code",
   "execution_count": 24,
   "metadata": {},
   "outputs": [
    {
     "name": "stdout",
     "output_type": "stream",
     "text": [
      "Meli will be 100 years old in the year  2096\n"
     ]
    }
   ],
   "source": [
    "print (name, \"will be 100 years old in the year \", 2017+(100-age))"
   ]
  },
  {
   "cell_type": "code",
   "execution_count": null,
   "metadata": {
    "collapsed": true
   },
   "outputs": [],
   "source": []
  }
 ],
 "metadata": {
  "kernelspec": {
   "display_name": "Python 3",
   "language": "python",
   "name": "python3"
  },
  "language_info": {
   "codemirror_mode": {
    "name": "ipython",
    "version": 3
   },
   "file_extension": ".py",
   "mimetype": "text/x-python",
   "name": "python",
   "nbconvert_exporter": "python",
   "pygments_lexer": "ipython3",
   "version": "3.6.3"
  }
 },
 "nbformat": 4,
 "nbformat_minor": 2
}
